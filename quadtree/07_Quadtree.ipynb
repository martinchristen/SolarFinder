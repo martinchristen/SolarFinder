{
 "cells": [
  {
   "cell_type": "markdown",
   "metadata": {},
   "source": [
    "# TMS_GeoProc HS 2018\n",
    "\n",
    "# Rasterdaten im Quadtree\n",
    "\n",
    "\n"
   ]
  },
  {
   "cell_type": "code",
   "execution_count": null,
   "metadata": {
    "collapsed": true
   },
   "outputs": [],
   "source": [
    "import PIL    # Installation mit: pip install pillow\n",
    "from IPython.core.display import HTML"
   ]
  },
  {
   "cell_type": "markdown",
   "metadata": {},
   "source": [
    "## Umgang mit Bilddateien im Jupyter Notebook"
   ]
  },
  {
   "cell_type": "markdown",
   "metadata": {},
   "source": [
    "### Ein Bild (von URL) im Jupyter Notebook darstellen"
   ]
  },
  {
   "cell_type": "code",
   "execution_count": null,
   "metadata": {
    "scrolled": true
   },
   "outputs": [],
   "source": [
    "url = \"https://www.google.ch/images/branding/googlelogo/2x/googlelogo_color_272x92dp.png\"\n",
    "HTML('<img src=\"' + url + '\" width=\"20%\"></img>')"
   ]
  },
  {
   "cell_type": "markdown",
   "metadata": {},
   "source": [
    "### Bild manuell herunterladen und darstellen\n",
    "\n",
    "Verwenden der urllib2: https://docs.python.org/3/howto/urllib2.html"
   ]
  },
  {
   "cell_type": "code",
   "execution_count": null,
   "metadata": {},
   "outputs": [],
   "source": [
    "from urllib.request import urlopen\n",
    "\n",
    "outputfile = \"test.png\"\n",
    "\n",
    "response = urlopen(url) \n",
    "with open(outputfile, 'wb') as f:\n",
    "    while True:\n",
    "        chunk = response.read(16*1024)\n",
    "        if not chunk:\n",
    "            break\n",
    "        f.write(chunk)\n",
    "        \n",
    "        \n",
    "HTML('<img src=\"' + outputfile + '\" width=\"20%\"></img>')"
   ]
  },
  {
   "cell_type": "markdown",
   "metadata": {},
   "source": [
    "nun haben wir ein file \"test.png\" erstellt.\n",
    "Es ist auch möglich Bilder direkt im Speicher zu halten ohne jedesmal ein File zu erstellen.\n",
    "\n",
    "Python hat dazu ein Basis-Modul \"io\", welches \"BytesIO\" zur Verfügung stellt."
   ]
  },
  {
   "cell_type": "code",
   "execution_count": null,
   "metadata": {
    "collapsed": true
   },
   "outputs": [],
   "source": [
    "from urllib.request import urlopen\n",
    "from io import BytesIO\n",
    "import base64\n",
    "\n",
    "\n",
    "response = urlopen(url) \n",
    "buffer = BytesIO()\n",
    "\n",
    "while True:\n",
    "    chunk = response.read(16*1024)\n",
    "    if not chunk:\n",
    "        break\n",
    "    buffer.write(chunk)\n",
    "        \n",
    "        \n",
    "img_str = str(base64.b64encode(buffer.getvalue()), encoding=\"ascii\")\n",
    "HTML('<img src=\"data:image/png;base64,' + img_str + '\" width=\"20%\"></img>')"
   ]
  },
  {
   "cell_type": "markdown",
   "metadata": {},
   "source": [
    "Read kann bei kleineren Files auch direkt aufgerufen werden. Da wir im Speicher sowieso nur kleiner Files halten können, machen wir das doch so:"
   ]
  },
  {
   "cell_type": "code",
   "execution_count": null,
   "metadata": {},
   "outputs": [],
   "source": [
    "from urllib.request import urlopen\n",
    "from io import BytesIO\n",
    "import base64\n",
    "\n",
    "response = urlopen(url)\n",
    "buffer = BytesIO(response.read())\n",
    "    \n",
    "img_str = str(base64.b64encode(buffer.getvalue()), encoding=\"ascii\")\n",
    "HTML('<img src=\"data:image/png;base64,' + img_str + '\" width=\"20%\"></img>')"
   ]
  },
  {
   "cell_type": "markdown",
   "metadata": {},
   "source": [
    "### Bilder analysieren\n",
    "\n",
    "Wir wollen natürlich die Bilder nicht einfache im Jupyter Notebook darstellen, sondern wir wollen damit arbeiten.\n",
    "\n",
    "Python unterstützt direkt keine Bildformate, es gibt aber zahlreiche Bibliothken, welche das übernehmen. Ein sehr populäres modul ist \"PIL\" (pillow). Dieses kann mit:\n",
    "\n",
    "\n",
    "    pip install pillow\n",
    "    \n",
    "    \n",
    "installiert werden."
   ]
  },
  {
   "cell_type": "code",
   "execution_count": null,
   "metadata": {},
   "outputs": [],
   "source": [
    "from PIL import Image\n",
    "from urllib.request import urlopen\n",
    "from io import BytesIO\n",
    "import numpy as np\n",
    "\n",
    "response = urlopen(url)\n",
    "buffer = BytesIO(response.read())\n",
    "\n",
    "im = Image.open(buffer)\n",
    "print(im.format, im.size, im.mode)\n",
    "im.close()"
   ]
  },
  {
   "cell_type": "code",
   "execution_count": null,
   "metadata": {},
   "outputs": [],
   "source": [
    "from PIL import Image\n",
    "from urllib.request import urlopen\n",
    "from io import BytesIO\n",
    "import numpy as np\n",
    "\n",
    "response = urlopen(url)\n",
    "buffer = BytesIO(response.read())\n",
    "\n",
    "im = Image.open(buffer)\n",
    "\n",
    "resized = im.resize((54,18))\n",
    "\n",
    "data_full = np.array(im)\n",
    "data = np.array(resized)\n",
    "im.close()\n",
    "\n",
    "print(data.shape)   # row, columns, value (RGB, RGBA, ...)\n",
    "\n",
    "for y in range(data.shape[0]):\n",
    "    for x in range(data.shape[1]):\n",
    "        r = data[y][x][0]\n",
    "        g = data[y][x][1]\n",
    "        b = data[y][x][2]\n",
    "        \n",
    "        if r!=0 and g!=0 and b!=0:\n",
    "            print(\"#\", end=\"\")\n",
    "        else:\n",
    "            print(\".\", end=\"\")\n",
    "    print(\"\")\n"
   ]
  },
  {
   "cell_type": "code",
   "execution_count": null,
   "metadata": {},
   "outputs": [],
   "source": [
    "data"
   ]
  },
  {
   "cell_type": "markdown",
   "metadata": {},
   "source": [
    "Die Bilddaten aus numpy können natürlich auch mit matplotlib dargestellt werden:"
   ]
  },
  {
   "cell_type": "code",
   "execution_count": null,
   "metadata": {},
   "outputs": [],
   "source": [
    "%matplotlib inline\n",
    "import matplotlib.pyplot as plt\n",
    "\n",
    "\n",
    "plt.imshow(data)\n",
    "plt.show()"
   ]
  },
  {
   "cell_type": "markdown",
   "metadata": {},
   "source": [
    "Eventuell ist es sinnvolle eine andere Interpolation zu verwenden.\n",
    "\n",
    "Akzeptierte Filter sind: ‘none’, ‘nearest’, ‘bilinear’, ‘bicubic’, ‘spline16’, ‘spline36’, ‘hanning’, ‘hamming’, ‘hermite’, ‘kaiser’, ‘quadric’, ‘catrom’, ‘gaussian’, ‘bessel’, ‘mitchell’, ‘sinc’, ‘lanczos’"
   ]
  },
  {
   "cell_type": "code",
   "execution_count": null,
   "metadata": {},
   "outputs": [],
   "source": [
    "plt.imshow(data, interpolation='spline36')\n",
    "plt.show()"
   ]
  },
  {
   "cell_type": "markdown",
   "metadata": {},
   "source": [
    "Wir haben übrigens immer noch die volle Auflösung des Bildes im numpy_array \"data_full\" (siehe oben)"
   ]
  },
  {
   "cell_type": "code",
   "execution_count": null,
   "metadata": {},
   "outputs": [],
   "source": [
    "plt.imshow(data_full, interpolation='nearest')\n",
    "plt.show()"
   ]
  },
  {
   "cell_type": "markdown",
   "metadata": {},
   "source": [
    "## Rechnen im Quadtree"
   ]
  },
  {
   "cell_type": "markdown",
   "metadata": {},
   "source": [
    "### Quadkey zu normalisierten Koordinaten"
   ]
  },
  {
   "cell_type": "code",
   "execution_count": null,
   "metadata": {
    "collapsed": true
   },
   "outputs": [],
   "source": [
    "def QuadKeyToNormalizedCoord(key):\n",
    "    zoomlevels = len(key)\n",
    "    x = 0\n",
    "    y = 0\n",
    "    scale = 1.0\n",
    "    for i in range(0,zoomlevels):\n",
    "        scale /= 2.0\n",
    "        if key[i] == \"0\":\n",
    "            y += scale\n",
    "        elif key[i] == \"1\":\n",
    "            x += scale\n",
    "            y += scale\n",
    "        elif key[i] == \"2\":\n",
    "            pass\n",
    "        elif key[i] == \"3\":\n",
    "            x += scale\n",
    "\n",
    "    return [ x, y , x + scale, y + scale]\n",
    "    #return [ x*2.-1.,  (y)*2.-1, (x + scale)*2-1, (y + scale)*2.-1.]"
   ]
  },
  {
   "cell_type": "code",
   "execution_count": null,
   "metadata": {},
   "outputs": [],
   "source": [
    "QuadKeyToNormalizedCoord(\"\")"
   ]
  },
  {
   "cell_type": "markdown",
   "metadata": {},
   "source": [
    "Da wir die beste floating-point Präzision wollen, macht es mehr Sinn im Bereich -1 bis 1 zu arbeiten.  \n",
    "Es macht deshalb am meisten Sinn den Quadtree (Mercator Projektion, EPSG:3857) auf den Bereich (-1,-1) bis (1,1) zu normalisieren. Wobei (-1,-1) die Koordinate unten links und (1,1) oben rechts repräsentiert.\n",
    "\n",
    "```\n",
    "           (1,1)\n",
    "      +-----+\n",
    "      |     |\n",
    "      |     |\n",
    "      +-----+\n",
    "  (-1,-1)\n",
    "```\n",
    "\n",
    "Siehe auch:\n",
    "* http://spatialreference.org/ref/sr-org/6864/"
   ]
  },
  {
   "cell_type": "code",
   "execution_count": null,
   "metadata": {},
   "outputs": [],
   "source": [
    "import pyproj\n",
    "\n",
    "webmercator = pyproj.Proj(init='EPSG:3857')\n",
    "wgs84 = pyproj.Proj(init='EPSG:4326')\n",
    "\n",
    "print(pyproj.transform(wgs84, webmercator, -180, -85.05112877980659))\n",
    "print(pyproj.transform(wgs84, webmercator, 180, 85.05112877980659))\n"
   ]
  },
  {
   "cell_type": "code",
   "execution_count": null,
   "metadata": {
    "collapsed": true
   },
   "outputs": [],
   "source": [
    "def QuadKeyToNormalizedMercatorCoord(key):\n",
    "    zoomlevels = len(key)\n",
    "    x = 0\n",
    "    y = 0\n",
    "    scale = 1.0\n",
    "    for i in range(0,zoomlevels):\n",
    "        scale /= 2.0\n",
    "        if key[i] == \"0\":\n",
    "            y += scale\n",
    "        elif key[i] == \"1\":\n",
    "            x += scale\n",
    "            y += scale\n",
    "        elif key[i] == \"2\":\n",
    "            pass\n",
    "        elif key[i] == \"3\":\n",
    "            x += scale\n",
    "\n",
    "    return [ x*2.-1.,  (y)*2.-1, (x + scale)*2-1, (y + scale)*2.-1.]"
   ]
  },
  {
   "cell_type": "code",
   "execution_count": null,
   "metadata": {},
   "outputs": [],
   "source": [
    "QuadKeyToNormalizedMercatorCoord(\"012120012\")"
   ]
  },
  {
   "cell_type": "markdown",
   "metadata": {},
   "source": [
    "### Tile-Koordinaten zu Quadkey"
   ]
  },
  {
   "cell_type": "code",
   "execution_count": null,
   "metadata": {},
   "outputs": [],
   "source": [
    "# bit-Shifting\n",
    "\n",
    "print(1 << 2)\n",
    "print(1 << 3)\n",
    "print(1 << 4)\n",
    "print(1 << 5)"
   ]
  },
  {
   "cell_type": "code",
   "execution_count": null,
   "metadata": {
    "collapsed": true
   },
   "outputs": [],
   "source": [
    "def Tilecoord2Quadkey(tx, ty, zoom):\n",
    "    key = \"\"\n",
    "    for i in range(zoom, 0, -1):\n",
    "        digit = 0\n",
    "        mask = 1 << (i - 1)\n",
    "        if (tx & mask) != 0:\n",
    "            digit += 1\n",
    "        if (ty & mask) != 0:\n",
    "            digit += 2\n",
    "        key += str(digit)\n",
    "    return key"
   ]
  },
  {
   "cell_type": "code",
   "execution_count": null,
   "metadata": {},
   "outputs": [],
   "source": [
    "print(Tilecoord2Quadkey(0,0,1)) # \"0\"\n",
    "print(Tilecoord2Quadkey(1,0,1)) # \"1\"\n",
    "print(Tilecoord2Quadkey(0,1,1)) # \"2\"\n",
    "print(Tilecoord2Quadkey(1,1,1)) # \"3\""
   ]
  },
  {
   "cell_type": "code",
   "execution_count": null,
   "metadata": {
    "collapsed": true
   },
   "outputs": [],
   "source": [
    "# TMS kehrt y um (nur zur Info...)\n",
    "def TMS2Quadkey(tx, ty, zoom):\n",
    "    return Tilecoord2Quadkey(tx, (2**zoom-1)-ty, zoom)"
   ]
  },
  {
   "cell_type": "markdown",
   "metadata": {},
   "source": [
    "## Mercator nach WGS84\n",
    "\n",
    "    Snyder, John Parr. Map Projections - a Working Manual. Washington: U.S. G.P.O., 1987."
   ]
  },
  {
   "cell_type": "code",
   "execution_count": null,
   "metadata": {
    "collapsed": true
   },
   "outputs": [],
   "source": [
    "import math\n",
    "\n",
    "def NormalizedMercatorToWGS84(x, y):\n",
    "    x = x * math.pi\n",
    "    y = y * math.pi\n",
    "   \n",
    "    t = math.exp(-y);   \n",
    "    lat = math.pi/2 - 2.0 * math.atan(t)\n",
    "    lng = x / 1.0\n",
    "    return [lng * 57.295779513082320876798154814105, lat * 57.295779513082320876798154814105]"
   ]
  },
  {
   "cell_type": "code",
   "execution_count": null,
   "metadata": {},
   "outputs": [],
   "source": [
    "NormalizedMercatorToWGS84(-1,-1)"
   ]
  },
  {
   "cell_type": "code",
   "execution_count": null,
   "metadata": {},
   "outputs": [],
   "source": [
    "print(NormalizedMercatorToWGS84(-1,-1))\n",
    "print(NormalizedMercatorToWGS84(0,0))\n",
    "print(NormalizedMercatorToWGS84(1,1))"
   ]
  },
  {
   "cell_type": "markdown",
   "metadata": {},
   "source": [
    "## Quadkey zu WGS84"
   ]
  },
  {
   "cell_type": "code",
   "execution_count": null,
   "metadata": {
    "collapsed": true
   },
   "outputs": [],
   "source": [
    "import math\n",
    "\n",
    "def QuadkeyToWGS84(quadcode):\n",
    "    mercator = QuadKeyToNormalizedMercatorCoord(quadcode)\n",
    "    t0 = NormalizedMercatorToWGS84(mercator[0],mercator[1])\n",
    "    t1 = NormalizedMercatorToWGS84(mercator[2],mercator[3])\n",
    "    return [t0[0], t0[1],  t1[0], t1[1]]"
   ]
  },
  {
   "cell_type": "code",
   "execution_count": null,
   "metadata": {},
   "outputs": [],
   "source": [
    "print(QuadkeyToWGS84(\"\"))\n",
    "print(QuadkeyToWGS84(\"0\"))\n",
    "print(QuadkeyToWGS84(\"1\"))\n",
    "print(QuadkeyToWGS84(\"2\"))\n",
    "print(QuadkeyToWGS84(\"3\"))"
   ]
  },
  {
   "cell_type": "markdown",
   "metadata": {},
   "source": [
    "## WGS84 (Punkt) nach Tile"
   ]
  },
  {
   "cell_type": "code",
   "execution_count": null,
   "metadata": {
    "collapsed": true
   },
   "outputs": [],
   "source": [
    "def WGS84ToTile(lng, lat, zoom):\n",
    "    # bl = NormalizedMercatorToWGS84(-1,-1)\n",
    "    # tr = NormalizedMercatorToWGS84(1,1)\n",
    "    \n",
    "    MinLongitude = -180  # bl[0]\n",
    "    MaxLongitude = 180   # tr[0]\n",
    "    MinLatitude = -85.05112877980659 # bl[1]\n",
    "    MaxLatitude = 85.05112877980659 # tr[1]\n",
    "\n",
    "    mapSize = pow(2, zoom) * 256   # Tile Size 256x256\n",
    "\n",
    "    if lng<MinLongitude:\n",
    "        lng = MinLongitude\n",
    "    elif lng>MaxLongitude:\n",
    "        lng = MaxLongitude\n",
    "        \n",
    "    if lat<MinLatitude:\n",
    "        lat = MinLatitude\n",
    "    elif lat>MaxLatitude:\n",
    "        lat = MaxLatitude\n",
    "\n",
    "    p = [0,0,0]\n",
    "    p[0] = int((lng + 180.0) / 360.0 * (2**zoom))\n",
    "    p[1] = int((1.0 - math.log(math.tan(lat * math.pi / 180.0) \n",
    "                + 1.0 / math.cos(lat * math.pi / 180.0)) / math.pi) / 2.0 * (2**zoom))\n",
    "    p[2] = zoom\n",
    "    return p"
   ]
  },
  {
   "cell_type": "code",
   "execution_count": null,
   "metadata": {},
   "outputs": [],
   "source": [
    "print(WGS84ToTile(8.529416,47.379133,5))\n",
    "print(WGS84ToTile(8.529416,47.379133,12))\n",
    "print(WGS84ToTile(8.529416,47.379133,18))"
   ]
  },
  {
   "cell_type": "code",
   "execution_count": null,
   "metadata": {
    "collapsed": true
   },
   "outputs": [],
   "source": [
    "def WGS84ToQuadkey(lng, lat, zoom):\n",
    "    t = WGS84ToTile(lng, lat, zoom)\n",
    "    return Tilecoord2Quadkey(t[0],t[1],zoom)"
   ]
  },
  {
   "cell_type": "code",
   "execution_count": null,
   "metadata": {},
   "outputs": [],
   "source": [
    "print(WGS84ToQuadkey(8.529416,47.379133,5))\n",
    "print(WGS84ToQuadkey(8.529416,47.379133,12))\n",
    "print(WGS84ToQuadkey(8.529416,47.379133,18))"
   ]
  },
  {
   "cell_type": "markdown",
   "metadata": {},
   "source": [
    "## Tile-Koordinate nach WGS84"
   ]
  },
  {
   "cell_type": "code",
   "execution_count": null,
   "metadata": {
    "collapsed": true
   },
   "outputs": [],
   "source": [
    "def TileToWGS84(x, y, zoom):\n",
    "    key = Tilecoord2Quadkey(x,y,zoom)\n",
    "    return QuadkeyToWGS84(key)"
   ]
  },
  {
   "cell_type": "markdown",
   "metadata": {},
   "source": [
    "### Tile Server\n",
    "\n",
    "Datensätze aus Amazon AWS (EPSG:3857)\n",
    "\n",
    "* https://aws.amazon.com/de/public-datasets/terrain/\n",
    "* https://mapzen.com/blog/elevation/\n",
    "\n",
    "\n",
    "Tiles:\n",
    "\n",
    "* https://s3.amazonaws.com/elevation-tiles-prod/terrarium/{z}/{x}/{y}.png\n",
    "* https://s3.amazonaws.com/elevation-tiles-prod/normal/{z}/{x}/{y}.png\n",
    "* https://s3.amazonaws.com/elevation-tiles-prod/geotiff/{z}/{x}/{y}.tif\n",
    "* https://s3.amazonaws.com/elevation-tiles-prod/skadi/{N|S}{y}/{N|S}{y}{E|W}{x}.hgt.gz\n",
    "\n",
    "\n",
    "Terrarium:\n",
    "   \n",
    "     elv = (red * 256 + green + blue / 256) - 32768\n",
    "     \n",
    "     \n",
    "OpenStreetMap Tiles:\n",
    "\n",
    "https://wiki.openstreetmap.org/wiki/Tile_servers\n",
    "\n",
    "Beispiel: https://a.tile.openstreetmap.org/z/x/y.png "
   ]
  },
  {
   "cell_type": "markdown",
   "metadata": {},
   "source": [
    "### Matterhorn"
   ]
  },
  {
   "cell_type": "code",
   "execution_count": null,
   "metadata": {},
   "outputs": [],
   "source": [
    "matterhorntile = WGS84ToTile(7.657476, 45.977871, 11)\n",
    "matterhorntile"
   ]
  },
  {
   "cell_type": "code",
   "execution_count": null,
   "metadata": {},
   "outputs": [],
   "source": [
    "WGS84ToQuadkey(7.657476, 45.977871, 11)"
   ]
  },
  {
   "cell_type": "code",
   "execution_count": null,
   "metadata": {},
   "outputs": [],
   "source": [
    "TileToWGS84(1067, 728, 11)"
   ]
  },
  {
   "cell_type": "code",
   "execution_count": null,
   "metadata": {},
   "outputs": [],
   "source": [
    "url = \"https://s3.amazonaws.com/elevation-tiles-prod/normal/{z}/{x}/{y}.png\"\n",
    "urldata = \"https://s3.amazonaws.com/elevation-tiles-prod/terrarium/{z}/{x}/{y}.png\"\n",
    "osm = \"https://a.tile.openstreetmap.org/{z}/{x}/{y}.png\"\n",
    "\n",
    "matterhorn = url.format(x=matterhorntile[0],y=matterhorntile[1],z=matterhorntile[2])\n",
    "matterhornosm = osm.format(x=matterhorntile[0],y=matterhorntile[1],z=matterhorntile[2])\n",
    "\n",
    "print(matterhorn)\n",
    "print(matterhornosm)"
   ]
  },
  {
   "cell_type": "code",
   "execution_count": null,
   "metadata": {},
   "outputs": [],
   "source": [
    "from IPython.core.display import HTML\n",
    "\n",
    "HTML('<img src=\"' + matterhorn + '\"></img>')"
   ]
  },
  {
   "cell_type": "code",
   "execution_count": null,
   "metadata": {},
   "outputs": [],
   "source": [
    "HTML('<img src=\"' + matterhornosm + '\"></img>')"
   ]
  },
  {
   "cell_type": "code",
   "execution_count": null,
   "metadata": {},
   "outputs": [],
   "source": [
    "BaselTile = WGS84ToTile(7.592427, 47.556467, 11)\n",
    "BaselTile"
   ]
  },
  {
   "cell_type": "code",
   "execution_count": null,
   "metadata": {},
   "outputs": [],
   "source": [
    "baselosm = osm.format(x=BaselTile[0],y=BaselTile[1],z=BaselTile[2])\n",
    "HTML('<img src=\"' + baselosm + '\"></img>')"
   ]
  },
  {
   "cell_type": "code",
   "execution_count": null,
   "metadata": {},
   "outputs": [],
   "source": [
    "basel = url.format(x=BaselTile[0],y=BaselTile[1],z=BaselTile[2])\n",
    "HTML('<img src=\"' + basel + '\"></img>')"
   ]
  },
  {
   "cell_type": "code",
   "execution_count": null,
   "metadata": {},
   "outputs": [],
   "source": [
    "basel = urldata.format(x=BaselTile[0],y=BaselTile[1],z=BaselTile[2])\n",
    "HTML('<img src=\"' + basel + '\"></img>')"
   ]
  },
  {
   "cell_type": "code",
   "execution_count": null,
   "metadata": {},
   "outputs": [],
   "source": [
    "matterhorn = urldata.format(x=matterhorntile[0],y=matterhorntile[1],z=matterhorntile[2])\n",
    "HTML('<img src=\"' + matterhorn + '\"></img>')"
   ]
  },
  {
   "cell_type": "code",
   "execution_count": null,
   "metadata": {
    "collapsed": true
   },
   "outputs": [],
   "source": [
    "from PIL import Image\n",
    "from urllib.request import urlopen\n",
    "from io import BytesIO\n",
    "import numpy as np\n",
    "\n",
    "response = urlopen(matterhorn)\n",
    "buffer = BytesIO(response.read())\n",
    "\n",
    "im = Image.open(buffer)\n",
    "data = np.array(im)\n",
    "im.close()"
   ]
  },
  {
   "cell_type": "code",
   "execution_count": null,
   "metadata": {
    "scrolled": true
   },
   "outputs": [],
   "source": [
    "print(data.shape)"
   ]
  },
  {
   "cell_type": "code",
   "execution_count": null,
   "metadata": {
    "collapsed": true
   },
   "outputs": [],
   "source": [
    "elevation = np.zeros((256,256,1))"
   ]
  },
  {
   "cell_type": "code",
   "execution_count": null,
   "metadata": {
    "collapsed": true
   },
   "outputs": [],
   "source": [
    "for y in range(data.shape[0]):\n",
    "    for x in range(data.shape[1]):\n",
    "        r = data[y][x][0]\n",
    "        g = data[y][x][1]\n",
    "        b = data[y][x][2]\n",
    "        \n",
    "        height = (r * 256 + g + b / 256) - 32768.\n",
    "        elevation[y][x][0] = height"
   ]
  },
  {
   "cell_type": "code",
   "execution_count": null,
   "metadata": {},
   "outputs": [],
   "source": [
    "np.min(elevation)"
   ]
  },
  {
   "cell_type": "code",
   "execution_count": null,
   "metadata": {},
   "outputs": [],
   "source": [
    "np.max(elevation)"
   ]
  },
  {
   "cell_type": "markdown",
   "metadata": {},
   "source": [
    "## Beispiel: Tiles über der Schweiz in Karte darstellen\n",
    "\n",
    "Bounding box der Schweiz wird angenommen als:\n",
    "\n",
    "* min_longitude: 5.95587\n",
    "* max_longitude: 10.49203\n",
    "* min_latitude: 45.81802\n",
    "* max_latitude: 47.68038\n"
   ]
  },
  {
   "cell_type": "code",
   "execution_count": null,
   "metadata": {
    "collapsed": true
   },
   "outputs": [],
   "source": [
    "def Tile2GeoJSON(tilex, tiley, zoom):\n",
    "    x0,y0,x1,y1 = TileToWGS84(tilex, tiley, zoom)\n",
    "    TileGeoJSON = {\n",
    "        \"type\": \"Feature\",\n",
    "        \"properties\": {\n",
    "            \"name\": \"Tile Grid\",\n",
    "        },\n",
    "        \"geometry\": {\n",
    "            \"type\": \"MultiLineString\",\n",
    "            \"coordinates\": [\n",
    "                 [[x0, y0], [x0,y1]],\n",
    "                 [[x0, y0], [x1,y0]],\n",
    "                 [[x0, y1], [x1,y1]],\n",
    "                 [[x1, y0], [x1,y1]]\n",
    "              ]\n",
    "            }\n",
    "        }\n",
    "        \n",
    "    return TileGeoJSON\n"
   ]
  },
  {
   "cell_type": "code",
   "execution_count": null,
   "metadata": {
    "collapsed": true
   },
   "outputs": [],
   "source": [
    "s = Tile2GeoJSON(132,89,8)\n",
    "print(s)"
   ]
  },
  {
   "cell_type": "code",
   "execution_count": null,
   "metadata": {
    "collapsed": true
   },
   "outputs": [],
   "source": [
    "def genTiles(minlng,minlat,maxlng,maxlat, zoom):\n",
    "    t0 = WGS84ToTile(minlng,minlat,zoom)\n",
    "    t1 = WGS84ToTile(maxlng,maxlat,zoom)\n",
    "    \n",
    "    x0 = t0[0]\n",
    "    y0 = t1[1]\n",
    "    x1 = t1[0]\n",
    "    y1 = t0[1]\n",
    "    \n",
    "    alltiles = []\n",
    "    \n",
    "    for y in range(y0,y1+1):\n",
    "        for x in range(x0,x1+1):\n",
    "            alltiles.append([x,y, zoom])\n",
    "    \n",
    "    return alltiles    "
   ]
  },
  {
   "cell_type": "code",
   "execution_count": null,
   "metadata": {
    "collapsed": true
   },
   "outputs": [],
   "source": [
    "tiles = genTiles(5.95587, 45.81802, 10.49203, 47.68038, 10)\n",
    "print(tiles)"
   ]
  },
  {
   "cell_type": "code",
   "execution_count": null,
   "metadata": {
    "collapsed": true
   },
   "outputs": [],
   "source": [
    "center = [0.5*(45.81802+47.68038), 0.5*(5.95587+10.49203)]\n",
    "center"
   ]
  },
  {
   "cell_type": "code",
   "execution_count": null,
   "metadata": {
    "collapsed": true
   },
   "outputs": [],
   "source": []
  },
  {
   "cell_type": "code",
   "execution_count": null,
   "metadata": {
    "collapsed": true,
    "scrolled": true
   },
   "outputs": [],
   "source": [
    "import folium\n",
    "from folium import GeoJson\n",
    "\n",
    "\n",
    "m = folium.Map(location=center, zoom_start=5, tiles='Stamen Toner')\n",
    "\n",
    "\n",
    "folium.Marker([45.81802, 5.95587], popup='BBox CH').add_to(m)\n",
    "folium.Marker([47.68038, 10.49203], popup='BBox CH').add_to(m)\n",
    "\n",
    "for tile in tiles:\n",
    "    json = Tile2GeoJSON(tile[0], tile[1], tile[2])\n",
    "    GeoJson(json).add_to(m)\n",
    "\n",
    "m"
   ]
  },
  {
   "cell_type": "code",
   "execution_count": null,
   "metadata": {
    "collapsed": true
   },
   "outputs": [],
   "source": []
  }
 ],
 "metadata": {
  "hide_input": false,
  "kernelspec": {
   "display_name": "Python 3",
   "language": "python",
   "name": "python3"
  },
  "language_info": {
   "codemirror_mode": {
    "name": "ipython",
    "version": 3
   },
   "file_extension": ".py",
   "mimetype": "text/x-python",
   "name": "python",
   "nbconvert_exporter": "python",
   "pygments_lexer": "ipython3",
   "version": "3.6.5"
  }
 },
 "nbformat": 4,
 "nbformat_minor": 2
}
